{
 "cells": [
  {
   "cell_type": "markdown",
   "metadata": {},
   "source": [
    "#### implements `FourierProjector`"
   ]
  },
  {
   "cell_type": "code",
   "execution_count": 1,
   "metadata": {
    "execution": {
     "iopub.execute_input": "2022-05-23T16:55:05.840001Z",
     "iopub.status.busy": "2022-05-23T16:55:05.840001Z",
     "iopub.status.idle": "2022-05-23T16:55:08.356494Z",
     "shell.execute_reply": "2022-05-23T16:55:08.355478Z",
     "shell.execute_reply.started": "2022-05-23T16:55:05.840001Z"
    }
   },
   "outputs": [],
   "source": [
    "import os\n",
    "import time\n",
    "from pathlib import Path\n",
    "\n",
    "import skimage\n",
    "import numpy as np\n",
    "import pandas as pd\n",
    "import matplotlib.pyplot as plt\n",
    "import seaborn as sns\n",
    "from sklearn.base import BaseEstimator, TransformerMixin\n",
    "from sklearn.cluster import KMeans\n",
    "from sklearn.decomposition import PCA\n",
    "from sklearn.random_projection import GaussianRandomProjection\n",
    "from tqdm import tqdm"
   ]
  },
  {
   "cell_type": "code",
   "execution_count": 2,
   "metadata": {
    "execution": {
     "iopub.execute_input": "2022-05-23T16:55:08.357520Z",
     "iopub.status.busy": "2022-05-23T16:55:08.357520Z",
     "iopub.status.idle": "2022-05-23T16:55:08.371452Z",
     "shell.execute_reply": "2022-05-23T16:55:08.370483Z",
     "shell.execute_reply.started": "2022-05-23T16:55:08.357520Z"
    }
   },
   "outputs": [],
   "source": [
    "plt.rcParams[\"figure.figsize\"] = (12, 10)\n",
    "\n",
    "SMALL_SIZE = 8\n",
    "MEDIUM_SIZE = 10\n",
    "BIGGER_SIZE = 12\n",
    "\n",
    "plt.rc(\"font\", size=SMALL_SIZE)          # controls default text sizes\n",
    "plt.rc(\"axes\", titlesize=SMALL_SIZE)     # fontsize of the axes title\n",
    "plt.rc(\"axes\", labelsize=MEDIUM_SIZE)    # fontsize of the x and y labels\n",
    "plt.rc(\"xtick\", labelsize=SMALL_SIZE)    # fontsize of the tick labels\n",
    "plt.rc(\"ytick\", labelsize=SMALL_SIZE)    # fontsize of the tick labels\n",
    "plt.rc(\"legend\", fontsize=SMALL_SIZE)    # legend fontsize\n",
    "plt.rc(\"figure\", titlesize=BIGGER_SIZE)  # fontsize of the figure title\n",
    "\n",
    "color_cycle = plt.rcParams[\"axes.prop_cycle\"].by_key()[\"color\"]\n",
    "\n",
    "sns.set()"
   ]
  },
  {
   "cell_type": "code",
   "execution_count": 3,
   "metadata": {
    "execution": {
     "iopub.execute_input": "2022-05-23T16:55:08.373448Z",
     "iopub.status.busy": "2022-05-23T16:55:08.372478Z",
     "iopub.status.idle": "2022-05-23T16:55:08.495973Z",
     "shell.execute_reply": "2022-05-23T16:55:08.495001Z",
     "shell.execute_reply.started": "2022-05-23T16:55:08.372478Z"
    }
   },
   "outputs": [],
   "source": [
    "RESIZED_IMG_FOLDER = \"img64\"\n",
    "RESIZED_DIM = 64"
   ]
  },
  {
   "cell_type": "code",
   "execution_count": 4,
   "metadata": {
    "execution": {
     "iopub.execute_input": "2022-05-23T16:55:08.496971Z",
     "iopub.status.busy": "2022-05-23T16:55:08.496971Z",
     "iopub.status.idle": "2022-05-23T16:55:08.606145Z",
     "shell.execute_reply": "2022-05-23T16:55:08.605143Z",
     "shell.execute_reply.started": "2022-05-23T16:55:08.496971Z"
    }
   },
   "outputs": [],
   "source": [
    "def read_images(path=RESIZED_IMG_FOLDER):\n",
    "    filename_lst = os.listdir(path)\n",
    "    width = RESIZED_DIM\n",
    "    height = width\n",
    "    n_img = len(filename_lst)\n",
    "    n_channel = 3\n",
    "\n",
    "    X = np.empty((n_img, width * height * n_channel), dtype=np.uint8)\n",
    "    for idx, filename in tqdm(enumerate(filename_lst)):\n",
    "        input_filepath = Path(RESIZED_IMG_FOLDER) / filename\n",
    "        im = skimage.io.imread(input_filepath)\n",
    "\n",
    "        if im.ndim != 3:\n",
    "            im = np.stack((im,)*3, axis=-1)\n",
    "            \n",
    "        X[idx] = im.flatten()\n",
    "    return X"
   ]
  },
  {
   "cell_type": "code",
   "execution_count": 5,
   "metadata": {
    "execution": {
     "iopub.execute_input": "2022-05-23T16:55:08.607141Z",
     "iopub.status.busy": "2022-05-23T16:55:08.607141Z",
     "iopub.status.idle": "2022-05-23T16:55:08.714542Z",
     "shell.execute_reply": "2022-05-23T16:55:08.713542Z",
     "shell.execute_reply.started": "2022-05-23T16:55:08.607141Z"
    }
   },
   "outputs": [],
   "source": [
    "def calc_error(X, label_lst, k):\n",
    "    \n",
    "    # Calculate cluster centers\n",
    "    cluster_center_lst = np.empty((k, X.shape[1]))\n",
    "    \n",
    "    for i in range(k):\n",
    "        cluster_center_lst[i] = np.mean(X[label_lst == i], axis=0)\n",
    "    \n",
    "    error = (np.linalg.norm(X - cluster_center_lst[label_lst], axis=1) ** 2).mean()\n",
    "    return error"
   ]
  },
  {
   "cell_type": "code",
   "execution_count": 6,
   "metadata": {
    "execution": {
     "iopub.execute_input": "2022-05-23T16:55:08.715538Z",
     "iopub.status.busy": "2022-05-23T16:55:08.715538Z",
     "iopub.status.idle": "2022-05-23T16:55:08.808496Z",
     "shell.execute_reply": "2022-05-23T16:55:08.807496Z",
     "shell.execute_reply.started": "2022-05-23T16:55:08.715538Z"
    }
   },
   "outputs": [],
   "source": [
    "def cluster_with_projection(X, projector, num_clusters=20):\n",
    "    start = time.perf_counter()\n",
    "\n",
    "    # reduce dimensions\n",
    "    X_tr = projector.fit_transform(X)\n",
    "\n",
    "    # cluster\n",
    "    kmeans_model = KMeans(n_clusters=num_clusters)\n",
    "    kmeans_model.fit(X_tr)\n",
    "\n",
    "    time_elapsed = time.perf_counter() - start\n",
    "    error = calc_error(X, kmeans_model.labels_, num_clusters)\n",
    "\n",
    "    return time_elapsed, error"
   ]
  },
  {
   "cell_type": "code",
   "execution_count": 7,
   "metadata": {
    "execution": {
     "iopub.execute_input": "2022-05-23T16:55:08.809492Z",
     "iopub.status.busy": "2022-05-23T16:55:08.809492Z",
     "iopub.status.idle": "2022-05-23T16:55:08.965343Z",
     "shell.execute_reply": "2022-05-23T16:55:08.964340Z",
     "shell.execute_reply.started": "2022-05-23T16:55:08.809492Z"
    }
   },
   "outputs": [],
   "source": [
    "class FourierProjector(TransformerMixin, BaseEstimator):\n",
    "    def __init__(self, k=20, gamma=1, random_state=None):\n",
    "        \"\"\"\n",
    "        `k` is the dimension of the new space.\n",
    "        adapted from https://github.com/hichamjanati/srf & modified.\n",
    "        \"\"\"\n",
    "        self.gamma = gamma\n",
    "        self.k = k\n",
    "        self.random_state = random_state\n",
    "        \n",
    "        self._fitted = False\n",
    "        self._rng = np.random.default_rng(seed=random_state)\n",
    "        \n",
    "    def fit(self, X, y=None):\n",
    "        _, d = X.shape\n",
    "        self.w = (np.sqrt(2 * self.gamma)\n",
    "                      * self._rng.standard_normal(size=(self.k, d)))\n",
    "        self.u = 2 * np.pi * self._rng.random(self.k)\n",
    "        self._fitted = True\n",
    "\n",
    "        return self\n",
    "    \n",
    "    def transform(self, X):\n",
    "        \"\"\"\n",
    "        From `N x d` to `N x k`.\n",
    "        \"\"\"\n",
    "        if not self._fitted:\n",
    "            raise RuntimeError(\"Need to fit prior to transform.\")\n",
    "        return (np.sqrt(2 / self.k)\n",
    "                    * np.cos(X.dot(self.w.T) + self.u[None, :]))"
   ]
  },
  {
   "cell_type": "code",
   "execution_count": 8,
   "metadata": {
    "execution": {
     "iopub.execute_input": "2022-05-23T16:55:08.966334Z",
     "iopub.status.busy": "2022-05-23T16:55:08.966334Z",
     "iopub.status.idle": "2022-05-23T16:55:12.909680Z",
     "shell.execute_reply": "2022-05-23T16:55:12.908682Z",
     "shell.execute_reply.started": "2022-05-23T16:55:08.966334Z"
    }
   },
   "outputs": [
    {
     "name": "stderr",
     "output_type": "stream",
     "text": [
      "0it [00:00, ?it/s]C:\\Users\\need-\\Anaconda3\\lib\\site-packages\\skimage\\io\\manage_plugins.py:23: UserWarning: Your installed pillow version is < 8.1.2. Several security issues (CVE-2021-27921, CVE-2021-25290, CVE-2021-25291, CVE-2021-25293, and more) have been fixed in pillow 8.1.2 or higher. We recommend to upgrade this library.\n",
      "  from .collection import imread_collection_wrapper\n",
      "5000it [00:03, 1311.05it/s]\n"
     ]
    }
   ],
   "source": [
    "# the data\n",
    "X = read_images()"
   ]
  },
  {
   "cell_type": "code",
   "execution_count": 9,
   "metadata": {
    "execution": {
     "iopub.execute_input": "2022-05-23T16:55:12.911674Z",
     "iopub.status.busy": "2022-05-23T16:55:12.911674Z",
     "iopub.status.idle": "2022-05-23T16:55:24.006578Z",
     "shell.execute_reply": "2022-05-23T16:55:24.005582Z",
     "shell.execute_reply.started": "2022-05-23T16:55:12.911674Z"
    }
   },
   "outputs": [],
   "source": [
    "# compare projections for 1 new dimension\n",
    "NEW_DIM = 100\n",
    "NUM_CLUSTERS = 20\n",
    "time_pca, err_pca = cluster_with_projection(X, PCA(NEW_DIM), num_clusters=NUM_CLUSTERS)\n",
    "time_fourier, err_fourier = cluster_with_projection(X, FourierProjector(NEW_DIM), num_clusters=NUM_CLUSTERS)"
   ]
  },
  {
   "cell_type": "code",
   "execution_count": 10,
   "metadata": {
    "execution": {
     "iopub.execute_input": "2022-05-23T16:55:24.008574Z",
     "iopub.status.busy": "2022-05-23T16:55:24.007576Z",
     "iopub.status.idle": "2022-05-23T16:55:24.021539Z",
     "shell.execute_reply": "2022-05-23T16:55:24.020542Z",
     "shell.execute_reply.started": "2022-05-23T16:55:24.008574Z"
    }
   },
   "outputs": [
    {
     "data": {
      "text/plain": [
       "(6.938468199999999, 33542767.186324146)"
      ]
     },
     "execution_count": 10,
     "metadata": {},
     "output_type": "execute_result"
    }
   ],
   "source": [
    "time_pca, err_pca"
   ]
  },
  {
   "cell_type": "code",
   "execution_count": 11,
   "metadata": {
    "execution": {
     "iopub.execute_input": "2022-05-23T16:55:24.022536Z",
     "iopub.status.busy": "2022-05-23T16:55:24.022536Z",
     "iopub.status.idle": "2022-05-23T16:55:24.098548Z",
     "shell.execute_reply": "2022-05-23T16:55:24.097551Z",
     "shell.execute_reply.started": "2022-05-23T16:55:24.022536Z"
    }
   },
   "outputs": [
    {
     "data": {
      "text/plain": [
       "(2.3659399000000008, 52364502.73190421)"
      ]
     },
     "execution_count": 11,
     "metadata": {},
     "output_type": "execute_result"
    }
   ],
   "source": [
    "time_fourier, err_fourier"
   ]
  },
  {
   "cell_type": "code",
   "execution_count": 12,
   "metadata": {
    "execution": {
     "iopub.execute_input": "2022-05-23T16:55:24.099545Z",
     "iopub.status.busy": "2022-05-23T16:55:24.099545Z",
     "iopub.status.idle": "2022-05-23T16:55:24.205040Z",
     "shell.execute_reply": "2022-05-23T16:55:24.204076Z",
     "shell.execute_reply.started": "2022-05-23T16:55:24.099545Z"
    }
   },
   "outputs": [],
   "source": [
    "# compare projections for many new dimensions\n",
    "NEW_DIMS = [100, 200, 400, 800, 1000, 2000, 4000]"
   ]
  },
  {
   "cell_type": "code",
   "execution_count": 13,
   "metadata": {
    "execution": {
     "iopub.execute_input": "2022-05-23T16:55:24.206037Z",
     "iopub.status.busy": "2022-05-23T16:55:24.206037Z",
     "iopub.status.idle": "2022-05-23T16:55:24.327712Z",
     "shell.execute_reply": "2022-05-23T16:55:24.326716Z",
     "shell.execute_reply.started": "2022-05-23T16:55:24.206037Z"
    }
   },
   "outputs": [],
   "source": [
    "def experiment(projector_cls, new_dims, num_clusters=20, **projector_kwargs):\n",
    "    \"\"\"\n",
    "    calls `cluster_with_projection` many (`len(new_dims)`) times.\n",
    "    \"\"\"\n",
    "    elapsed_times = []\n",
    "    errors = []\n",
    "\n",
    "    for new_dim in tqdm(new_dims):\n",
    "\n",
    "        start = time.perf_counter()\n",
    "\n",
    "        # reduce dimensions\n",
    "        X_tr = projector_cls(new_dim, **projector_kwargs).fit_transform(X)\n",
    "\n",
    "        # cluster\n",
    "        kmeans_model = KMeans(n_clusters=num_clusters)\n",
    "        kmeans_model.fit(X_tr)\n",
    "\n",
    "        time_elapsed = time.perf_counter() - start\n",
    "        error = calc_error(X, kmeans_model.labels_, num_clusters)\n",
    "\n",
    "        elapsed_times.append(time_elapsed)\n",
    "        errors.append(error)\n",
    "\n",
    "    return {\"time\": elapsed_times, \"error\": errors}"
   ]
  },
  {
   "cell_type": "code",
   "execution_count": 14,
   "metadata": {
    "execution": {
     "iopub.execute_input": "2022-05-23T16:55:24.329707Z",
     "iopub.status.busy": "2022-05-23T16:55:24.328709Z",
     "iopub.status.idle": "2022-05-23T17:03:19.037076Z",
     "shell.execute_reply": "2022-05-23T17:03:19.037076Z",
     "shell.execute_reply.started": "2022-05-23T16:55:24.329707Z"
    }
   },
   "outputs": [
    {
     "name": "stderr",
     "output_type": "stream",
     "text": [
      "100%|████████████████████████████████████████████████████████████████████████████████████████████████████████████████████████| 7/7 [05:36<00:00, 48.06s/it]\n",
      "100%|████████████████████████████████████████████████████████████████████████████████████████████████████████████████████████| 7/7 [01:17<00:00, 11.06s/it]\n",
      "100%|████████████████████████████████████████████████████████████████████████████████████████████████████████████████████████| 7/7 [01:00<00:00,  8.66s/it]\n"
     ]
    }
   ],
   "source": [
    "results = {\"pca\": experiment(PCA, NEW_DIMS, NUM_CLUSTERS),\n",
    "           \"gauss\": experiment(GaussianRandomProjection, NEW_DIMS,\n",
    "                               NUM_CLUSTERS),\n",
    "           \"fourier\": experiment(FourierProjector, NEW_DIMS, NUM_CLUSTERS,\n",
    "                                 gamma=10)}"
   ]
  },
  {
   "cell_type": "code",
   "execution_count": 15,
   "metadata": {
    "execution": {
     "iopub.execute_input": "2022-05-23T17:03:19.039040Z",
     "iopub.status.busy": "2022-05-23T17:03:19.038041Z",
     "iopub.status.idle": "2022-05-23T17:03:19.177097Z",
     "shell.execute_reply": "2022-05-23T17:03:19.176097Z",
     "shell.execute_reply.started": "2022-05-23T17:03:19.039040Z"
    }
   },
   "outputs": [
    {
     "data": {
      "text/html": [
       "<style type=\"text/css\">\n",
       "#T_cab25_row0_col1, #T_cab25_row1_col1, #T_cab25_row2_col1, #T_cab25_row3_col1, #T_cab25_row4_col1, #T_cab25_row5_col1, #T_cab25_row6_col1 {\n",
       "  background-color: lightgreen;\n",
       "}\n",
       "#T_cab25_row0_col4, #T_cab25_row1_col4, #T_cab25_row2_col4, #T_cab25_row3_col4, #T_cab25_row4_col4, #T_cab25_row5_col4, #T_cab25_row6_col4 {\n",
       "  background-color: lightblue;\n",
       "}\n",
       "</style>\n",
       "<table id=\"T_cab25_\">\n",
       "  <thead>\n",
       "    <tr>\n",
       "      <th class=\"blank level0\" >&nbsp;</th>\n",
       "      <th class=\"col_heading level0 col0\" colspan=\"2\">pca</th>\n",
       "      <th class=\"col_heading level0 col2\" colspan=\"2\">gauss</th>\n",
       "      <th class=\"col_heading level0 col4\" colspan=\"2\">fourier</th>\n",
       "    </tr>\n",
       "    <tr>\n",
       "      <th class=\"blank level1\" >&nbsp;</th>\n",
       "      <th class=\"col_heading level1 col0\" >time</th>\n",
       "      <th class=\"col_heading level1 col1\" >error</th>\n",
       "      <th class=\"col_heading level1 col2\" >time</th>\n",
       "      <th class=\"col_heading level1 col3\" >error</th>\n",
       "      <th class=\"col_heading level1 col4\" >time</th>\n",
       "      <th class=\"col_heading level1 col5\" >error</th>\n",
       "    </tr>\n",
       "    <tr>\n",
       "      <th class=\"index_name level0\" >$k$</th>\n",
       "      <th class=\"blank col0\" >&nbsp;</th>\n",
       "      <th class=\"blank col1\" >&nbsp;</th>\n",
       "      <th class=\"blank col2\" >&nbsp;</th>\n",
       "      <th class=\"blank col3\" >&nbsp;</th>\n",
       "      <th class=\"blank col4\" >&nbsp;</th>\n",
       "      <th class=\"blank col5\" >&nbsp;</th>\n",
       "    </tr>\n",
       "  </thead>\n",
       "  <tbody>\n",
       "    <tr>\n",
       "      <th id=\"T_cab25_level0_row0\" class=\"row_heading level0 row0\" >100</th>\n",
       "      <td id=\"T_cab25_row0_col0\" class=\"data row0 col0\" >8.477000</td>\n",
       "      <td id=\"T_cab25_row0_col1\" class=\"data row0 col1\" >5794.985089</td>\n",
       "      <td id=\"T_cab25_row0_col2\" class=\"data row0 col2\" >2.129000</td>\n",
       "      <td id=\"T_cab25_row0_col3\" class=\"data row0 col3\" >5879.228279</td>\n",
       "      <td id=\"T_cab25_row0_col4\" class=\"data row0 col4\" >2.085000</td>\n",
       "      <td id=\"T_cab25_row0_col5\" class=\"data row0 col5\" >7234.180505</td>\n",
       "    </tr>\n",
       "    <tr>\n",
       "      <th id=\"T_cab25_level0_row1\" class=\"row_heading level0 row1\" >200</th>\n",
       "      <td id=\"T_cab25_row1_col0\" class=\"data row1 col0\" >11.307000</td>\n",
       "      <td id=\"T_cab25_row1_col1\" class=\"data row1 col1\" >5797.943220</td>\n",
       "      <td id=\"T_cab25_row1_col2\" class=\"data row1 col2\" >3.113000</td>\n",
       "      <td id=\"T_cab25_row1_col3\" class=\"data row1 col3\" >5825.607414</td>\n",
       "      <td id=\"T_cab25_row1_col4\" class=\"data row1 col4\" >2.736000</td>\n",
       "      <td id=\"T_cab25_row1_col5\" class=\"data row1 col5\" >7234.441216</td>\n",
       "    </tr>\n",
       "    <tr>\n",
       "      <th id=\"T_cab25_level0_row2\" class=\"row_heading level0 row2\" >400</th>\n",
       "      <td id=\"T_cab25_row2_col0\" class=\"data row2 col0\" >18.177000</td>\n",
       "      <td id=\"T_cab25_row2_col1\" class=\"data row2 col1\" >5795.177219</td>\n",
       "      <td id=\"T_cab25_row2_col2\" class=\"data row2 col2\" >3.987000</td>\n",
       "      <td id=\"T_cab25_row2_col3\" class=\"data row2 col3\" >5810.693412</td>\n",
       "      <td id=\"T_cab25_row2_col4\" class=\"data row2 col4\" >3.933000</td>\n",
       "      <td id=\"T_cab25_row2_col5\" class=\"data row2 col5\" >7234.715607</td>\n",
       "    </tr>\n",
       "    <tr>\n",
       "      <th id=\"T_cab25_level0_row3\" class=\"row_heading level0 row3\" >800</th>\n",
       "      <td id=\"T_cab25_row3_col0\" class=\"data row3 col0\" >22.639000</td>\n",
       "      <td id=\"T_cab25_row3_col1\" class=\"data row3 col1\" >5795.563812</td>\n",
       "      <td id=\"T_cab25_row3_col2\" class=\"data row3 col2\" >7.115000</td>\n",
       "      <td id=\"T_cab25_row3_col3\" class=\"data row3 col3\" >5809.120304</td>\n",
       "      <td id=\"T_cab25_row3_col4\" class=\"data row3 col4\" >6.190000</td>\n",
       "      <td id=\"T_cab25_row3_col5\" class=\"data row3 col5\" >7234.508245</td>\n",
       "    </tr>\n",
       "    <tr>\n",
       "      <th id=\"T_cab25_level0_row4\" class=\"row_heading level0 row4\" >1000</th>\n",
       "      <td id=\"T_cab25_row4_col0\" class=\"data row4 col0\" >28.458000</td>\n",
       "      <td id=\"T_cab25_row4_col1\" class=\"data row4 col1\" >5796.037574</td>\n",
       "      <td id=\"T_cab25_row4_col2\" class=\"data row4 col2\" >8.915000</td>\n",
       "      <td id=\"T_cab25_row4_col3\" class=\"data row4 col3\" >5806.642199</td>\n",
       "      <td id=\"T_cab25_row4_col4\" class=\"data row4 col4\" >7.092000</td>\n",
       "      <td id=\"T_cab25_row4_col5\" class=\"data row4 col5\" >7234.106746</td>\n",
       "    </tr>\n",
       "    <tr>\n",
       "      <th id=\"T_cab25_level0_row5\" class=\"row_heading level0 row5\" >2000</th>\n",
       "      <td id=\"T_cab25_row5_col0\" class=\"data row5 col0\" >62.221000</td>\n",
       "      <td id=\"T_cab25_row5_col1\" class=\"data row5 col1\" >5793.571216</td>\n",
       "      <td id=\"T_cab25_row5_col2\" class=\"data row5 col2\" >15.099000</td>\n",
       "      <td id=\"T_cab25_row5_col3\" class=\"data row5 col3\" >5799.142438</td>\n",
       "      <td id=\"T_cab25_row5_col4\" class=\"data row5 col4\" >12.109000</td>\n",
       "      <td id=\"T_cab25_row5_col5\" class=\"data row5 col5\" >7233.871945</td>\n",
       "    </tr>\n",
       "    <tr>\n",
       "      <th id=\"T_cab25_level0_row6\" class=\"row_heading level0 row6\" >4000</th>\n",
       "      <td id=\"T_cab25_row6_col0\" class=\"data row6 col0\" >179.174000</td>\n",
       "      <td id=\"T_cab25_row6_col1\" class=\"data row6 col1\" >5796.013221</td>\n",
       "      <td id=\"T_cab25_row6_col2\" class=\"data row6 col2\" >31.078000</td>\n",
       "      <td id=\"T_cab25_row6_col3\" class=\"data row6 col3\" >5796.657745</td>\n",
       "      <td id=\"T_cab25_row6_col4\" class=\"data row6 col4\" >20.615000</td>\n",
       "      <td id=\"T_cab25_row6_col5\" class=\"data row6 col5\" >7235.777532</td>\n",
       "    </tr>\n",
       "  </tbody>\n",
       "</table>\n"
      ],
      "text/plain": [
       "<pandas.io.formats.style.Styler at 0x29248cadb00>"
      ]
     },
     "execution_count": 15,
     "metadata": {},
     "output_type": "execute_result"
    }
   ],
   "source": [
    "idx = pd.IndexSlice\n",
    "df = (pd.concat(map(pd.DataFrame, results.values()), keys=results.keys(), axis=1)\n",
    "         .set_axis(NEW_DIMS, axis=0)\n",
    "         .rename_axis(index=\"$k$\")\n",
    "         .round(3))\n",
    "df.loc[:, idx[:, \"error\"]] **= 0.5  # RMSE\n",
    "\n",
    "(df.style\n",
    "   .highlight_min(subset=df.loc[:, idx[:, \"time\"]].columns, axis=1, color=\"lightblue\")\n",
    "   .highlight_min(subset=df.loc[:, idx[:, \"error\"]].columns, axis=1, color=\"lightgreen\"))"
   ]
  },
  {
   "cell_type": "markdown",
   "metadata": {},
   "source": [
    "#### the end"
   ]
  }
 ],
 "metadata": {
  "kernelspec": {
   "display_name": "Python 3",
   "language": "python",
   "name": "python3"
  },
  "language_info": {
   "codemirror_mode": {
    "name": "ipython",
    "version": 3
   },
   "file_extension": ".py",
   "mimetype": "text/x-python",
   "name": "python",
   "nbconvert_exporter": "python",
   "pygments_lexer": "ipython3",
   "version": "3.7.1"
  }
 },
 "nbformat": 4,
 "nbformat_minor": 4
}
